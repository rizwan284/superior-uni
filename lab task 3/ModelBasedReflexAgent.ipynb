{
 "cells": [
  {
   "cell_type": "code",
   "execution_count": 1,
   "metadata": {},
   "outputs": [
    {
     "name": "stdout",
     "output_type": "stream",
     "text": [
      "Results are stored successfully.\n"
     ]
    }
   ],
   "source": [
    "import json\n",
    "\n",
    "class SimpleReflexAgent:\n",
    "    def __init__(self, desired_temperature):\n",
    "        self.desired_temperature = desired_temperature \n",
    "\n",
    "    def perceive(self, current_temperature):\n",
    "        return current_temperature\n",
    "\n",
    "    def act(self, current_temperature):\n",
    "        if current_temperature < self.desired_temperature:\n",
    "            action = \"Turn on heater\"\n",
    "        else:\n",
    "            action = \"Turn off heater\"\n",
    "        return action\n",
    "\n",
    "rooms = {\n",
    "    \"Living Room\": 25,\n",
    "    \"Bedroom\": 20,\n",
    "    \"Kitchen\": 21,\n",
    "    \"Bathroom\": 25\n",
    "}\n",
    "\n",
    "desired_temperature = 23\n",
    "agent = SimpleReflexAgent(desired_temperature)\n",
    "\n",
    "data = {}\n",
    "for room, temperature in rooms.items():\n",
    "    action = agent.act(temperature)\n",
    "    data[room] = {\"current_temperature\": temperature, \"action\": action}\n",
    "\n",
    "with open(\"simple_reflex_results.json\", \"w\") as file:\n",
    "    json.dump(data, file, indent=4)\n",
    "\n",
    "print(\"Results are stored successfully.\")\n"
   ]
  },
  {
   "cell_type": "code",
   "execution_count": 2,
   "metadata": {},
   "outputs": [
    {
     "name": "stdout",
     "output_type": "stream",
     "text": [
      "Living Room: Current temperature = 18°C. Turn on heater. Action differs from stored data.\n",
      "Bedroom: Current temperature = 20°C. Turn on heater. Action matches stored data.\n",
      "Kitchen: Current temperature = 21°C. Turn on heater. Action matches stored data.\n",
      "Bathroom: Current temperature = 26°C. Heater willremains off. Action differs from stored data.\n"
     ]
    }
   ],
   "source": [
    "import json\n",
    "\n",
    "class ModelBasedReflexAgent:\n",
    "    def __init__(self, desired_temperature):\n",
    "        self.desired_temperature = desired_temperature\n",
    "        self.heater_states = {}  \n",
    "\n",
    "    def perceive(self, current_temperature):\n",
    "        return current_temperature\n",
    "\n",
    "    def act(self, room, current_temperature, stored_action):\n",
    "        previous_state = self.heater_states.get(room, \"off\")\n",
    "        stored_action_state = stored_action.split()[1]  \n",
    "        if current_temperature < self.desired_temperature:\n",
    "            if previous_state == \"off\":\n",
    "                self.heater_states[room] = \"on\"\n",
    "                action = \"Turn on heater\"\n",
    "            else:\n",
    "                action = \"Heater will remains on\"\n",
    "        else:\n",
    "            if previous_state == \"on\":\n",
    "                self.heater_states[room] = \"off\"\n",
    "                action = \"Turn off heater\"\n",
    "            else:\n",
    "                action = \"Heater willremains off\"\n",
    "\n",
    "       \n",
    "        if stored_action == action:\n",
    "            check = \"Action matches stored data.\"\n",
    "        else:\n",
    "            check = \"Action differs from stored data.\"\n",
    "\n",
    "        return action, check\n",
    "\n",
    "\n",
    "with open(\"simple_reflex_results.json\", \"r\") as file:\n",
    "    stored_data = json.load(file)\n",
    "\n",
    "\n",
    "rooms = {\n",
    "    \"Living Room\": 18,\n",
    "    \"Bedroom\": 20,\n",
    "    \"Kitchen\": 21,\n",
    "    \"Bathroom\": 26\n",
    "}\n",
    "\n",
    "desired_temperature = 24\n",
    "agent = ModelBasedReflexAgent(desired_temperature)\n",
    "\n",
    "for room, temperature in rooms.items():\n",
    "    stored_action = stored_data[room][\"action\"]\n",
    "    action, check = agent.act(room, temperature, stored_action)\n",
    "    print(f\"{room}: Current temperature = {temperature}°C. {action}. {check}\")\n"
   ]
  },
  {
   "cell_type": "code",
   "execution_count": null,
   "metadata": {},
   "outputs": [],
   "source": []
  }
 ],
 "metadata": {
  "kernelspec": {
   "display_name": "Bilal-2.0",
   "language": "python",
   "name": "python3"
  },
  "language_info": {
   "codemirror_mode": {
    "name": "ipython",
    "version": 3
   },
   "file_extension": ".py",
   "mimetype": "text/x-python",
   "name": "python",
   "nbconvert_exporter": "python",
   "pygments_lexer": "ipython3",
   "version": "3.12.4"
  }
 },
 "nbformat": 4,
 "nbformat_minor": 2
}
