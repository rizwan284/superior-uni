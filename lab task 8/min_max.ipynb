{
 "cells": [
  {
   "cell_type": "code",
   "execution_count": 4,
   "metadata": {},
   "outputs": [
    {
     "name": "stdout",
     "output_type": "stream",
     "text": [
      "3\n"
     ]
    }
   ],
   "source": [
    "import math\n",
    "\n",
    "score = [1, 2, 3, 4, 4, 23, 2, 3]\n",
    "Tree_depth = int(math.log(len(score), 2))\n",
    "\n",
    "def minmax(curr_depth: int, curr_index: int, is_max: bool) -> int:\n",
    "    if curr_depth == Tree_depth:\n",
    "        return score[curr_index]\n",
    "    \n",
    "    if is_max:\n",
    "        return max(                     \n",
    "            minmax(curr_depth + 1, curr_index * 2, False),\n",
    "            minmax(curr_depth + 1, curr_index * 2 + 1, False)\n",
    "        )\n",
    "    else:\n",
    "        return min(\n",
    "            minmax(curr_depth + 1, curr_index * 2, True),\n",
    "            minmax(curr_depth + 1, curr_index * 2 + 1, True)\n",
    "        )\n",
    "\n",
    "print(minmax(0, 0, True))"
   ]
  },
  {
   "cell_type": "code",
   "execution_count": null,
   "metadata": {},
   "outputs": [],
   "source": []
  }
 ],
 "metadata": {
  "kernelspec": {
   "display_name": "Bilal-2.0",
   "language": "python",
   "name": "python3"
  },
  "language_info": {
   "codemirror_mode": {
    "name": "ipython",
    "version": 3
   },
   "file_extension": ".py",
   "mimetype": "text/x-python",
   "name": "python",
   "nbconvert_exporter": "python",
   "pygments_lexer": "ipython3",
   "version": "3.12.4"
  }
 },
 "nbformat": 4,
 "nbformat_minor": 2
}
