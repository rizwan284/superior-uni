{
 "cells": [
  {
   "cell_type": "code",
   "execution_count": null,
   "metadata": {},
   "outputs": [],
   "source": [
    "count = 0\n",
    "while True:\n",
    "    a = int(input(\"Enter a number :\"))\n",
    "    if a%3==0 and a%5==0:\n",
    "        print(\"Fizz Buzz\")\n",
    "    elif a%3==0:\n",
    "        print(\"Fizz\")\n",
    "    elif a%5==0:\n",
    "        print(\"Buzz\")\n",
    "    else:\n",
    "        print(\"Game over\")\n",
    "        print(count)\n",
    "        print(f'Your highest score is {count}')\n",
    "        break\n",
    "\n",
    "    count+=1\n",
    "    "
   ]
  }
 ],
 "metadata": {
  "language_info": {
   "name": "python"
  }
 },
 "nbformat": 4,
 "nbformat_minor": 2
}
