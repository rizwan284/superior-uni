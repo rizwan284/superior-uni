{
 "cells": [
  {
   "cell_type": "code",
   "execution_count": null,
   "metadata": {},
   "outputs": [],
   "source": [
    "movies = [\n",
    "    (\"Eternal Sunshine of the Spotless Mind\", 20000000),\n",
    "    (\"Memento\", 9000000),\n",
    "    (\"Requiem for a Dream\", 4500000),\n",
    "    (\"Pirates of the Caribbean: On Stranger Tides\", 379000000),\n",
    "    (\"Avengers: Age of Ultron\", 365000000),\n",
    "    (\"Avengers: Endgame\", 356000000),\n",
    "    (\"Incredibles 2\", 200000000)\n",
    "]\n",
    "total_budget = 0\n",
    "while True:\n",
    "    add_movie = input(\" you like to add a movie with its budget? (yes/no): \").strip().lower()\n",
    "    \n",
    "    if add_movie == \"yes\":\n",
    "        movie_name = input(\"Enter movie: \")\n",
    "        movie_budget = int(input(\"Enter budget: \"))\n",
    "        movies.append((movie_name, movie_budget))\n",
    "        print(f\"{movie_name} with a budget of {movie_budget} has added.\")\n",
    "    elif add_movie == \"no\":\n",
    "        break\n",
    "    else:\n",
    "        print(\"Please enter 'yes' or 'no'.\")\n",
    "\n",
    "for budget in movies:   \n",
    "    total_budget += budget[1] \n",
    "    \n",
    "average_budget = total_budget / len(movies)\n",
    "print(f\"The average budget of movies is:{average_budget}\\n\")\n",
    "\n",
    "high_budget_movies = 0\n",
    "5\n",
    "for budget in movies:\n",
    "    if budget[1] > average_budget:\n",
    "        print(f\"{budget[0]} with the budget of {budget[1]} is above average.\")\n",
    "    if budget[1] > average_budget:\n",
    "        high_budget_movies += 1\n",
    "        \n",
    "print(f\"Movies with budget above than average: {high_budget_movies}\")"
   ]
  }
 ],
 "metadata": {
  "language_info": {
   "name": "python"
  }
 },
 "nbformat": 4,
 "nbformat_minor": 2
}
